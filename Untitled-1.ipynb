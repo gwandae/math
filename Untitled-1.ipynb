{
 "cells": [
  {
   "cell_type": "code",
   "execution_count": 1,
   "metadata": {},
   "outputs": [],
   "source": [
    "from pyhwpx import Hwp\n",
    "hwp = Hwp()\n",
    "hwp.put_field_text(\"학생 이름\", \"유정주\")\n",
    "hwp.put_field_text(\"학부모 성함\", \"\")\n",
    "hwp.put_field_text(\"우편번호\", \"31127\")\n",
    "hwp.put_field_text(\"주소\", \"   충남 천안시 동남구 성황로 40, 112동 1006호(문화동, 천안역필하우스에듀시티1단지)\")\n",
    "hwp.put_field_text(\"처분 제목\", \" 학교생활규정(근태 사항 위반)\")\n",
    "hwp.put_field_text(\"학년 반 번호\", \"학생생활규정 중 근태 사항 위반으로 미인정지각(결과, 조퇴)를 합하여 15회 이상 위반하여 위반됨.\")\n",
    "hwp.put_field_text(\"내용\", \"학생생활규정 중 근태 사항 위반으로 미인정지각(결과, 조퇴)를 합하여 15회 이상 위반하여 위반됨.\")\n",
    "hwp.put_field_text(\"일시\", \"2024년 12월 30일 16:30\")\n"
   ]
  },
  {
   "cell_type": "code",
   "execution_count": 2,
   "metadata": {},
   "outputs": [],
   "source": [
    "from pyhwpx import Hwp\n",
    "hwp = Hwp()\n",
    "hwp.put_field_text(\"학생 이름\", \"곽희상\")\n",
    "hwp.put_field_text(\"학부모 성함\", \"\")\n",
    "hwp.put_field_text(\"우편번호\", \"31207\")\n",
    "hwp.put_field_text(\"주소\", \" 충청남도 천안시 동남구 통정9로 51, 101동 303호(신방동, 천안신방푸르지오)\")\n",
    "hwp.put_field_text(\"처분 제목\", \" 학교생활규정(용모 규정-실내화 착용 등교 3회 이상)\")\n",
    "hwp.put_field_text(\"학년 반 번호\", \"2학년 2반 3번\")\n",
    "hwp.put_field_text(\"내용\", \"학생생활규정 중 준법의 용모 사항 관련 위반으로 실외의 실내화 착용 및 실내화 착용 등교에 관련한 사항을 아침 등교지도에서 3회(3/7, 4/3, 10/29) 적발되어 회부됨.\")\n",
    "hwp.put_field_text(\"일시\", \"2024년 12월 30일 16:30\")\n"
   ]
  },
  {
   "cell_type": "code",
   "execution_count": 3,
   "metadata": {},
   "outputs": [],
   "source": [
    "from pyhwpx import Hwp\n",
    "hwp = Hwp()\n",
    "hwp.put_field_text(\"학생 이름\", \"정효은\")\n",
    "hwp.put_field_text(\"학부모 성함\", \"\")\n",
    "hwp.put_field_text(\"우편번호\", \"31226\")\n",
    "hwp.put_field_text(\"주소\", \"   충남 천안시 동남구 목천읍 삼성5길 42, 116동 602호(원앙마을1단지부영아파트)\")\n",
    "hwp.put_field_text(\"처분 제목\", \" 학교생활규정(근태 사항 위반)\")\n",
    "hwp.put_field_text(\"학년 반 번호\", \"2학년 2반 28번\")\n",
    "hwp.put_field_text(\"내용\", \"학생생활규정 중 근태 사항 위반으로 미인정지각(결과, 조퇴)를 합하여 15회 이상(21회) 위반하여 위반됨.\")\n",
    "hwp.put_field_text(\"일시\", \"2024년 12월 30일 16:30\")\n"
   ]
  },
  {
   "cell_type": "code",
   "execution_count": 4,
   "metadata": {},
   "outputs": [],
   "source": [
    "from pyhwpx import Hwp\n",
    "hwp = Hwp()\n",
    "hwp.put_field_text(\"학생 이름\", \"편서준\")\n",
    "hwp.put_field_text(\"학부모 성함\", \"\")\n",
    "hwp.put_field_text(\"우편번호\", \"31183\")\n",
    "hwp.put_field_text(\"주소\", \"   충남 천안시 동남구 용곡5길 34, 403동 803호(용곡동, 용곡동일하이빌하이씨티4단지)\")\n",
    "hwp.put_field_text(\"처분 제목\", \" 학교생활규정(근태 사항 위반)\")\n",
    "hwp.put_field_text(\"학년 반 번호\", \"2학년 2반 30번\")\n",
    "hwp.put_field_text(\"내용\", \"학생생활규정 중 근태 사항 위반으로 미인정지각(결과, 조퇴)를 합하여 15회 이상(16회) 위반하여 위반됨.\")\n",
    "hwp.put_field_text(\"일시\", \"2024년 12월 30일 16:30\")\n"
   ]
  },
  {
   "cell_type": "code",
   "execution_count": 5,
   "metadata": {},
   "outputs": [],
   "source": [
    "from pyhwpx import Hwp\n",
    "hwp = Hwp()\n",
    "hwp.put_field_text(\"학생 이름\", \"박지후\")\n",
    "hwp.put_field_text(\"학부모 성함\", \"\")\n",
    "hwp.put_field_text(\"우편번호\", \"31212\")\n",
    "hwp.put_field_text(\"주소\", \"   충남 천안시 동남구 청당3길 147, 106동 902호(청당동, 행정타운두산위브더파크)\")\n",
    "hwp.put_field_text(\"처분 제목\", \" 학교생활규정(근태 사항 위반)\")\n",
    "hwp.put_field_text(\"학년 반 번호\", \"2학년 6반 15번\")\n",
    "hwp.put_field_text(\"내용\", \"학생생활규정 중 근태 사항 위반으로 미인정지각(결과, 조퇴)를 합하여 15회 이상(19회) 위반하여 위반됨.\")\n",
    "hwp.put_field_text(\"일시\", \"2024년 12월 30일 16:30\")\n"
   ]
  },
  {
   "cell_type": "code",
   "execution_count": 6,
   "metadata": {},
   "outputs": [],
   "source": [
    "from pyhwpx import Hwp\n",
    "hwp = Hwp()\n",
    "hwp.put_field_text(\"학생 이름\", \"신우진\")\n",
    "hwp.put_field_text(\"학부모 성함\", \"\")\n",
    "hwp.put_field_text(\"우편번호\", \"31212\")\n",
    "hwp.put_field_text(\"주소\", \"   충남 천안시 동남구 청당3길 147, 108동 1901호(청당동, 행정타운두산위브더파크)\")\n",
    "hwp.put_field_text(\"처분 제목\", \" 학교생활규정(근태 사항 위반)\")\n",
    "hwp.put_field_text(\"학년 반 번호\", \"2학년 6반 17번\")\n",
    "hwp.put_field_text(\"내용\", \"학생생활규정 중 근태 사항 위반으로 미인정지각(결과, 조퇴)를 합하여 15회 이상(18회) 위반하여 위반됨.\")\n",
    "hwp.put_field_text(\"일시\", \"2024년 12월 30일 16:30\")\n"
   ]
  },
  {
   "cell_type": "code",
   "execution_count": 7,
   "metadata": {},
   "outputs": [],
   "source": [
    "from pyhwpx import Hwp\n",
    "hwp = Hwp()\n",
    "hwp.put_field_text(\"학생 이름\", \"김선민\")\n",
    "hwp.put_field_text(\"학부모 성함\", \"\")\n",
    "hwp.put_field_text(\"우편번호\", \"31184\")\n",
    "hwp.put_field_text(\"주소\", \"   충남 천안시 동남구 일봉로 34, 102동 402호(신방동, 두레현대아파트1단지)\")\n",
    "hwp.put_field_text(\"처분 제목\", \" 학교생활규정(근태 사항 위반)\")\n",
    "hwp.put_field_text(\"학년 반 번호\", \"2학년 7반 3번\")\n",
    "hwp.put_field_text(\"내용\", \"학생생활규정 중 근태 사항 위반으로 미인정지각(결과, 조퇴)를 합하여 15회 이상(23회) 위반하여 위반됨.\")\n",
    "hwp.put_field_text(\"일시\", \"2024년 12월 30일 16:30\")"
   ]
  },
  {
   "cell_type": "code",
   "execution_count": 8,
   "metadata": {},
   "outputs": [],
   "source": [
    "from pyhwpx import Hwp\n",
    "hwp = Hwp()\n",
    "hwp.put_field_text(\"학생 이름\", \"이연우\")\n",
    "hwp.put_field_text(\"학부모 성함\", \"\")\n",
    "hwp.put_field_text(\"우편번호\", \"31196\")\n",
    "hwp.put_field_text(\"주소\", \"   충남 천안시 동남구 청수8로 72, 707동 1903호(청당동, 산운마을부영사랑으로)\")\n",
    "hwp.put_field_text(\"처분 제목\", \" 학교생활규정(근태 사항 위반)\")\n",
    "hwp.put_field_text(\"학년 반 번호\", \"2학년 8반 19번\")\n",
    "hwp.put_field_text(\"내용\", \"학생생활규정 중 근태 사항 위반으로 미인정지각(결과, 조퇴)를 합하여 15회 이상(17회) 위반하여 위반됨.\")\n",
    "hwp.put_field_text(\"일시\", \"2024년 12월 30일 16:30\")\n"
   ]
  },
  {
   "cell_type": "code",
   "execution_count": 9,
   "metadata": {},
   "outputs": [],
   "source": [
    "from pyhwpx import Hwp\n",
    "hwp = Hwp()\n",
    "hwp.put_field_text(\"학생 이름\", \"김도훈\")\n",
    "hwp.put_field_text(\"학부모 성함\", \"\")\n",
    "hwp.put_field_text(\"우편번호\", \"31197\")\n",
    "hwp.put_field_text(\"주소\", \"   충남 천안시 동남구 청수7로 33-11, C동 401호(청당동)\")\n",
    "hwp.put_field_text(\"처분 제목\", \" 학교생활규정(근태 사항 위반)\")\n",
    "hwp.put_field_text(\"학년 반 번호\", \"2학년 9반 4번\")\n",
    "hwp.put_field_text(\"내용\", \"학생생활규정 중 근태 사항 위반으로 미인정지각(결과, 조퇴)를 합하여 15회 이상(18회) 위반하여 위반됨.\")\n",
    "hwp.put_field_text(\"일시\", \"2024년 12월 30일 16:30\")\n"
   ]
  },
  {
   "cell_type": "code",
   "execution_count": 10,
   "metadata": {},
   "outputs": [],
   "source": [
    "from pyhwpx import Hwp\n",
    "hwp = Hwp()\n",
    "hwp.put_field_text(\"학생 이름\", \"박신욱\")\n",
    "hwp.put_field_text(\"학부모 성함\", \"\")\n",
    "hwp.put_field_text(\"우편번호\", \"31204\")\n",
    "hwp.put_field_text(\"주소\", \"   충남 천안시 동남구 통정3로 77, 102동 1702호(신방동, 하나리움아인스파크)\")\n",
    "hwp.put_field_text(\"처분 제목\", \" 학교생활규정(근태 사항 위반)\")\n",
    "hwp.put_field_text(\"학년 반 번호\", \"2학년 9반 16번\")\n",
    "hwp.put_field_text(\"내용\", \"학생생활규정 중 근태 사항 위반으로 미인정지각(결과, 조퇴)를 합하여 15회 이상(20회) 위반하여 위반됨.\")\n",
    "hwp.put_field_text(\"일시\", \"2024년 12월 30일 16:30\")\n"
   ]
  },
  {
   "cell_type": "code",
   "execution_count": 11,
   "metadata": {},
   "outputs": [],
   "source": [
    "from pyhwpx import Hwp\n",
    "hwp = Hwp()\n",
    "hwp.put_field_text(\"학생 이름\", \"서진원\")\n",
    "hwp.put_field_text(\"학부모 성함\", \"\")\n",
    "hwp.put_field_text(\"우편번호\", \"31211\")\n",
    "hwp.put_field_text(\"주소\", \"   충남 천안시 동남구 청당2길 118, 107동 904호(청당동, 청당마을벽산블루밍아파트)\")\n",
    "hwp.put_field_text(\"처분 제목\", \" 학교생활규정(근태 사항 위반)\")\n",
    "hwp.put_field_text(\"학년 반 번호\", \"2학년 10반 16번\")\n",
    "hwp.put_field_text(\"내용\", \"학생생활규정 중 근태 사항 위반으로 미인정지각(결과, 조퇴)를 합하여 15회 이상(19회) 위반하여 위반됨.\")\n",
    "hwp.put_field_text(\"일시\", \"2024년 12월 30일 16:30\")\n"
   ]
  },
  {
   "cell_type": "code",
   "execution_count": 12,
   "metadata": {},
   "outputs": [],
   "source": [
    "from pyhwpx import Hwp\n",
    "hwp = Hwp()\n",
    "hwp.put_field_text(\"학생 이름\", \"송다운\")\n",
    "hwp.put_field_text(\"학부모 성함\", \"\")\n",
    "hwp.put_field_text(\"우편번호\", \"31184\")\n",
    "hwp.put_field_text(\"주소\", \"   충남 천안시 동남구 일봉로 88, 304동 1504호(용곡동, 용곡동일하이빌하이씨티3단지)\")\n",
    "hwp.put_field_text(\"처분 제목\", \" 학교생활규정(근태 사항 위반)\")\n",
    "hwp.put_field_text(\"학년 반 번호\", \"2학년 12반 19번\")\n",
    "hwp.put_field_text(\"내용\", \"학생생활규정 중 근태 사항 위반으로 미인정지각(결과, 조퇴)를 합하여 15회 이상(16회) 위반하여 위반됨.\")\n",
    "hwp.put_field_text(\"일시\", \"2024년 12월 30일 16:30\")\n"
   ]
  },
  {
   "cell_type": "code",
   "execution_count": null,
   "metadata": {},
   "outputs": [],
   "source": []
  }
 ],
 "metadata": {
  "kernelspec": {
   "display_name": "Python 3",
   "language": "python",
   "name": "python3"
  },
  "language_info": {
   "codemirror_mode": {
    "name": "ipython",
    "version": 3
   },
   "file_extension": ".py",
   "mimetype": "text/x-python",
   "name": "python",
   "nbconvert_exporter": "python",
   "pygments_lexer": "ipython3",
   "version": "3.11.9"
  }
 },
 "nbformat": 4,
 "nbformat_minor": 2
}
